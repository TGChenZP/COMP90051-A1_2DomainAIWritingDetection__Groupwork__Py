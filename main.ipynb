{
 "cells": [
  {
   "cell_type": "markdown",
   "metadata": {},
   "source": [
    "# Pytorch Training UI"
   ]
  },
  {
   "cell_type": "markdown",
   "metadata": {},
   "source": [
    "### Import Libraries"
   ]
  },
  {
   "cell_type": "code",
   "execution_count": 1,
   "metadata": {},
   "outputs": [],
   "source": [
    "# detect whether this is a google environment\n",
    "\n",
    "COLAB_ENVIRONMENT = False\n",
    "\n",
    "try:\n",
    "    from google.colab import drive\n",
    "    drive.mount('/content/drive')\n",
    "    COLAB_ENVIRONMENT = True\n",
    "except:\n",
    "    pass"
   ]
  },
  {
   "cell_type": "code",
   "execution_count": 2,
   "metadata": {},
   "outputs": [],
   "source": [
    "import sys\n",
    "import os\n",
    "import pickle\n",
    "\n",
    "if COLAB_ENVIRONMENT:\n",
    "    py_file_location = \"./drive/MyDrive/LAB/COMP90051-A1__Groupwork__Py/PrivatePackages/pytorch\" # my private packages are stored here\n",
    "    home_directory = './drive/MyDrive/LAB/COMP90051-A1__Groupwork__Py/' # my home directory is stored in ./LAB of google drive\n",
    "    !pip install einops\n",
    "else:\n",
    "    py_file_location = './PrivatePackages/pytorch'\n",
    "    home_directory = './'\n",
    "\n",
    "sys.path.append(os.path.abspath(py_file_location))\n",
    "\n",
    "from environment import *\n",
    "from utils import *\n",
    "\n",
    "from sklearn.model_selection import train_test_split"
   ]
  },
  {
   "cell_type": "code",
   "execution_count": 3,
   "metadata": {},
   "outputs": [],
   "source": [
    "from model.model_class import LSTM, BERT, LSTM_DANN, BERT_DANN"
   ]
  },
  {
   "cell_type": "markdown",
   "metadata": {},
   "source": [
    "### Set Seed and Load Data"
   ]
  },
  {
   "cell_type": "code",
   "execution_count": 4,
   "metadata": {},
   "outputs": [],
   "source": [
    "SEED = 2608"
   ]
  },
  {
   "cell_type": "code",
   "execution_count": 5,
   "metadata": {},
   "outputs": [],
   "source": [
    "data1 = []\n",
    "with open(home_directory + '/data/raw/comp90051-2024s1-project-1/domain1_train_data.json', 'r') as f:\n",
    "    for line in f:\n",
    "        data1.append(json.loads(line))\n",
    "\n",
    "data2 = []\n",
    "with open(home_directory + './data/raw/comp90051-2024s1-project-1/domain2_train_data.json', 'r') as f:\n",
    "    for line in f:\n",
    "        data2.append(json.loads(line))\n",
    "\n",
    "# create domain labels for data\n",
    "for i in range(len(data1)):\n",
    "    data1[i]['domain'] = 1\n",
    "for i in range(len(data2)):\n",
    "    data2[i]['domain'] = 2"
   ]
  },
  {
   "cell_type": "code",
   "execution_count": 6,
   "metadata": {},
   "outputs": [],
   "source": [
    "# Train Val Test Split\n",
    "\n",
    "# get labels for stratification\n",
    "label1 = [instance['label'] for instance in data1]\n",
    "label2 = [instance['label'] for instance in data2]\n",
    "\n",
    "train_ix_1, val_test_ix_1 = train_test_split(range(len(data1)), test_size=0.3, random_state=SEED, stratify = label1)\n",
    "train_ix_2, val_test_ix_2 = train_test_split(range(len(data2)), test_size=0.3, random_state=SEED, stratify = label2)\n",
    "val_ix_1, test_ix_1 = train_test_split(val_test_ix_1, test_size=0.5, random_state=SEED, stratify = [data1[i]['label'] for i in val_test_ix_1])\n",
    "val_ix_2, test_ix_2 = train_test_split(val_test_ix_2, test_size=0.5, random_state=SEED, stratify = [data2[i]['label'] for i in val_test_ix_2])\n",
    "\n",
    "# split data according to the index from train_test_split\n",
    "train_data_1 = [data1[i] for i in train_ix_1]\n",
    "val_data_1 = [data1[i] for i in val_ix_1]\n",
    "test_data_1 = [data1[i] for i in test_ix_1]\n",
    "train_data_2 = [data2[i] for i in train_ix_2]\n",
    "val_data_2 = [data2[i] for i in val_ix_2]\n",
    "test_data_2 = [data2[i] for i in test_ix_2]\n",
    "\n",
    "# combine the data\n",
    "train_data = train_data_1 + train_data_2\n",
    "val_data = val_data_1 + val_data_2\n",
    "test_data = test_data_1 + test_data_2"
   ]
  },
  {
   "cell_type": "markdown",
   "metadata": {},
   "source": [
    "---\n",
    "Preprocess data"
   ]
  },
  {
   "cell_type": "code",
   "execution_count": 7,
   "metadata": {},
   "outputs": [],
   "source": [
    "def W2V_DataFactory(data: list, context_window: int, seed: int, raw_token_pytorch_map: dict, k) -> list:\n",
    "\n",
    "    \"\"\" Get W2V training data \"\"\"\n",
    "    \n",
    "    assert context_window % 2 == 1, 'context window must be odd'\n",
    "\n",
    "    np.random.seed(seed)\n",
    "\n",
    "    MAX_SAMPLED_NEGATIVE_TOKENS = 10000\n",
    "\n",
    "    retokenised_keys = list(raw_token_pytorch_map.keys())\n",
    "\n",
    "    negative_tokens = np.random.choice(retokenised_keys, MAX_SAMPLED_NEGATIVE_TOKENS)\n",
    "\n",
    "    negative_up_to = 0\n",
    "\n",
    "    w2v_data = []\n",
    "\n",
    "    for instance in tqdm(data):\n",
    "        tokens = [context_window//2 * 'CLS'] + instance['text'] + [context_window//2 * raw_token_pytorch_map['PAD']]\n",
    "\n",
    "        for i in range(context_window//2, len(tokens) - context_window//2):\n",
    "            \n",
    "            focus_token_retokenised = raw_token_pytorch_map.get(tokens[i], raw_token_pytorch_map['UNK'])\n",
    "            context_words = set()\n",
    "\n",
    "            for j in range(-context_window//2, context_window//2+1):\n",
    "                if j != 0: # don't want to make positive sample with self\n",
    "                    if tokens[j] in context_words: # CLS and Padding (being start and end) being repeated\n",
    "                        continue \n",
    "                    \n",
    "                    new_instance = {'token': focus_token_retokenised, 'context': raw_token_pytorch_map.get(tokens[j], raw_token_pytorch_map['UNK']), 'label': 1}\n",
    "                    w2v_data.append(new_instance)\n",
    "                    context_words.add(tokens[j])\n",
    "            \n",
    "            for j in range(len(context_words)): # sample the same number of negatives\n",
    "                # TODO: different for each round?\n",
    "                while True:\n",
    "                    \n",
    "                    if negative_up_to == MAX_SAMPLED_NEGATIVE_TOKENS:\n",
    "                        negative_up_to = 0\n",
    "                        #TODO: shuffle\n",
    "\n",
    "                    sampled_negative_retokenised = negative_tokens[negative_up_to]\n",
    "                    negative_up_to += 1\n",
    "                    if sampled_negative_retokenised not in context_words: # didn't sample a positive case\n",
    "                        break\n",
    "\n",
    "                new_instance = {'token': focus_token_retokenised, 'context': sampled_negative_retokenised, 'label': 0}\n",
    "                w2v_data.append(new_instance)\n",
    "    \n",
    "    return w2v_data"
   ]
  },
  {
   "cell_type": "code",
   "execution_count": 8,
   "metadata": {},
   "outputs": [],
   "source": [
    "MAX_SENTENCE_LENGTH = 128\n",
    "MIN_FREQUENCY = 40 # because 40 is statistical sample requirement\n",
    "MAKE_CROPPED_REMAINS_INTO_NEW_INSTANCE = False\n",
    "W2V_CONTEXT_WINDOW = 5 # 2 to left, 2 to right"
   ]
  },
  {
   "cell_type": "code",
   "execution_count": 9,
   "metadata": {},
   "outputs": [
    {
     "name": "stderr",
     "output_type": "stream",
     "text": [
      "100%|██████████| 12600/12600 [00:00<00:00, 28373.72it/s]\n",
      "100%|██████████| 2700/2700 [00:00<00:00, 99811.57it/s]\n",
      "100%|██████████| 2700/2700 [00:00<00:00, 142344.21it/s]\n"
     ]
    }
   ],
   "source": [
    "cropped_train_data = crop_sentence_length(train_data, max_sentence_length = MAX_SENTENCE_LENGTH, make_cropped_remains_into_new_instance =MAKE_CROPPED_REMAINS_INTO_NEW_INSTANCE)\n",
    "cropped_val_data = crop_sentence_length(val_data, max_sentence_length =  MAX_SENTENCE_LENGTH, make_cropped_remains_into_new_instance = MAKE_CROPPED_REMAINS_INTO_NEW_INSTANCE)\n",
    "cropped_test_data = crop_sentence_length(test_data, max_sentence_length = MAX_SENTENCE_LENGTH, make_cropped_remains_into_new_instance =MAKE_CROPPED_REMAINS_INTO_NEW_INSTANCE)"
   ]
  },
  {
   "cell_type": "code",
   "execution_count": 10,
   "metadata": {},
   "outputs": [
    {
     "name": "stderr",
     "output_type": "stream",
     "text": [
      "100%|██████████| 12600/12600 [00:00<00:00, 65548.11it/s]\n"
     ]
    }
   ],
   "source": [
    "raw_token_pytorch_map = get_raw_token_pytorch_map(data = cropped_train_data, min_frequency = MIN_FREQUENCY) "
   ]
  },
  {
   "cell_type": "code",
   "execution_count": 11,
   "metadata": {},
   "outputs": [
    {
     "name": "stderr",
     "output_type": "stream",
     "text": [
      "100%|██████████| 12600/12600 [00:00<00:00, 71977.07it/s]\n",
      "100%|██████████| 2700/2700 [00:00<00:00, 73875.17it/s]\n",
      "100%|██████████| 2700/2700 [00:00<00:00, 75206.17it/s]\n"
     ]
    }
   ],
   "source": [
    "train_x, train_y, val_x, val_y, test_x, test_y, train_dom, val_dom, test_dom = Data_Factory(cropped_train_data, \\\n",
    "                                                              cropped_val_data, \\\n",
    "                                                                cropped_test_data, \\\n",
    "                                                                    MAX_SENTENCE_LENGTH, \\\n",
    "                                                                        raw_token_pytorch_map, \\\n",
    "                                                                            CLS=True)"
   ]
  },
  {
   "cell_type": "code",
   "execution_count": 12,
   "metadata": {},
   "outputs": [],
   "source": [
    "train_x = train_x[:200]\n",
    "train_y = train_y[:200]\n",
    "train_dom = train_dom[:200]\n",
    "val_x = val_x[:200]\n",
    "val_y = val_y[:200]\n",
    "val_dom = val_dom[:200]"
   ]
  },
  {
   "cell_type": "code",
   "execution_count": 13,
   "metadata": {},
   "outputs": [],
   "source": [
    "pos_prior, neg_prior = get_distribution(train_y)"
   ]
  },
  {
   "cell_type": "code",
   "execution_count": 14,
   "metadata": {},
   "outputs": [
    {
     "ename": "TypeError",
     "evalue": "W2V_DataFactory() missing 1 required positional argument: 'k'",
     "output_type": "error",
     "traceback": [
      "\u001b[0;31m---------------------------------------------------------------------------\u001b[0m",
      "\u001b[0;31mTypeError\u001b[0m                                 Traceback (most recent call last)",
      "Cell \u001b[0;32mIn[14], line 1\u001b[0m\n\u001b[0;32m----> 1\u001b[0m train_w2v_data \u001b[38;5;241m=\u001b[39m \u001b[43mW2V_DataFactory\u001b[49m\u001b[43m(\u001b[49m\u001b[43mtrain_data\u001b[49m\u001b[43m,\u001b[49m\u001b[43m \u001b[49m\u001b[43mcontext_window\u001b[49m\u001b[38;5;241;43m=\u001b[39;49m\u001b[43m \u001b[49m\u001b[43mW2V_CONTEXT_WINDOW\u001b[49m\u001b[43m,\u001b[49m\u001b[43m \u001b[49m\u001b[43mseed\u001b[49m\u001b[43m \u001b[49m\u001b[38;5;241;43m=\u001b[39;49m\u001b[43m \u001b[49m\u001b[43mSEED\u001b[49m\u001b[43m,\u001b[49m\u001b[43m \u001b[49m\u001b[43mraw_token_pytorch_map\u001b[49m\u001b[43m \u001b[49m\u001b[38;5;241;43m=\u001b[39;49m\u001b[43m \u001b[49m\u001b[43mraw_token_pytorch_map\u001b[49m\u001b[43m)\u001b[49m\n\u001b[1;32m      2\u001b[0m val_w2v_data \u001b[38;5;241m=\u001b[39m W2V_DataFactory(val_data, context_window\u001b[38;5;241m=\u001b[39m W2V_CONTEXT_WINDOW, seed \u001b[38;5;241m=\u001b[39m SEED, raw_token_pytorch_map \u001b[38;5;241m=\u001b[39m raw_token_pytorch_map)\n",
      "\u001b[0;31mTypeError\u001b[0m: W2V_DataFactory() missing 1 required positional argument: 'k'"
     ]
    }
   ],
   "source": [
    "train_w2v_data = W2V_DataFactory(train_data, context_window= W2V_CONTEXT_WINDOW, seed = SEED, raw_token_pytorch_map = raw_token_pytorch_map)\n",
    "val_w2v_data = W2V_DataFactory(val_data, context_window= W2V_CONTEXT_WINDOW, seed = SEED, raw_token_pytorch_map = raw_token_pytorch_map)"
   ]
  },
  {
   "cell_type": "code",
   "execution_count": null,
   "metadata": {},
   "outputs": [],
   "source": [
    "# class Dataset():\n",
    "#     \"\"\" Pytorch style dataset \"\"\"\n",
    "\n",
    "#     def __init__(self, data, maxlen):\n",
    "#         self.data = data\n",
    "#         self.maxlen = maxlen\n",
    "    \n",
    "#     def __len__(self):\n",
    "#         return len(self.data)\n",
    "    \n",
    "#     def __getitem__(self, index):\n",
    "#         return self.data[index]['text'], self.data[index]['label']\n",
    "#         # return self.data[index]['text'], self.data[index]['label'], self.data[index]['domain']"
   ]
  },
  {
   "cell_type": "markdown",
   "metadata": {},
   "source": [
    "---\n",
    "### Models\n",
    "\n",
    "#### 1. Prediction only"
   ]
  },
  {
   "cell_type": "code",
   "execution_count": null,
   "metadata": {},
   "outputs": [
    {
     "name": "stderr",
     "output_type": "stream",
     "text": [
      "/Applications/anaconda3/envs/COMP90051/lib/python3.9/site-packages/torch/nn/modules/rnn.py:83: UserWarning: dropout option adds dropout after all but last recurrent layer, so non-zero dropout expects num_layers greater than 1, but got dropout=0.1 and num_layers=1\n",
      "  warnings.warn(\"dropout option adds dropout after all but last \"\n",
      "/Applications/anaconda3/envs/COMP90051/lib/python3.9/site-packages/tqdm/auto.py:21: TqdmWarning: IProgress not found. Please update jupyter and ipywidgets. See https://ipywidgets.readthedocs.io/en/stable/user_install.html\n",
      "  from .autonotebook import tqdm as notebook_tqdm\n",
      "  0%|          | 0/99 [00:00<?, ?it/s]/Users/tg.chenny/Desktop/1. University/2. Masters/7. Statistical Machine Learning/Assignments/A1/COMP90051-A1__Groupwork__Py/PrivatePackages/pytorch/model/model_class/__template__.py:101: UserWarning: torch.nn.utils.clip_grad_norm is now deprecated in favor of torch.nn.utils.clip_grad_norm_.\n",
      "  nn.utils.clip_grad_norm(self.model.parameters(), 2)\n",
      "  3%|▎         | 3/99 [00:22<11:54,  7.44s/it]\n"
     ]
    },
    {
     "ename": "KeyboardInterrupt",
     "evalue": "",
     "output_type": "error",
     "traceback": [
      "\u001b[0;31m---------------------------------------------------------------------------\u001b[0m",
      "\u001b[0;31mKeyboardInterrupt\u001b[0m                         Traceback (most recent call last)",
      "Cell \u001b[0;32mIn[18], line 43\u001b[0m\n\u001b[1;32m     40\u001b[0m model \u001b[38;5;241m=\u001b[39m LSTM(LSTM_config) \u001b[38;5;66;03m# initialise the model\u001b[39;00m\n\u001b[1;32m     42\u001b[0m \u001b[38;5;66;03m# train the model (all cells except this one will print training log and evaluation at each batch)\u001b[39;00m\n\u001b[0;32m---> 43\u001b[0m best_epoch \u001b[38;5;241m=\u001b[39m \u001b[43mmodel\u001b[49m\u001b[38;5;241;43m.\u001b[39;49m\u001b[43mfit\u001b[49m\u001b[43m(\u001b[49m\u001b[43mtrain_x\u001b[49m\u001b[43m,\u001b[49m\u001b[43m \u001b[49m\u001b[43mtrain_y\u001b[49m\u001b[43m,\u001b[49m\u001b[43m \u001b[49m\u001b[43mval_x\u001b[49m\u001b[43m,\u001b[49m\u001b[43m \u001b[49m\u001b[43mval_y\u001b[49m\u001b[43m)\u001b[49m\n\u001b[1;32m     44\u001b[0m \u001b[38;5;28mprint\u001b[39m()\n\u001b[1;32m     46\u001b[0m \u001b[38;5;66;03m# as model automatically saves best epoch, will now load the best epoch and evaluate on test set\u001b[39;00m\n",
      "File \u001b[0;32m~/Desktop/1. University/2. Masters/7. Statistical Machine Learning/Assignments/A1/COMP90051-A1__Groupwork__Py/PrivatePackages/pytorch/model/model_class/__template__.py:99\u001b[0m, in \u001b[0;36mClassificationModel.fit\u001b[0;34m(self, total_train_X, total_train_y, total_val_test_X, total_val_test_y)\u001b[0m\n\u001b[1;32m     96\u001b[0m loss \u001b[38;5;241m=\u001b[39m \u001b[38;5;28mself\u001b[39m\u001b[38;5;241m.\u001b[39mcriterion(pred, true)\n\u001b[1;32m     98\u001b[0m \u001b[38;5;66;03m# backpropagation\u001b[39;00m\n\u001b[0;32m---> 99\u001b[0m \u001b[43mloss\u001b[49m\u001b[38;5;241;43m.\u001b[39;49m\u001b[43mbackward\u001b[49m\u001b[43m(\u001b[49m\u001b[43m)\u001b[49m\n\u001b[1;32m    100\u001b[0m \u001b[38;5;28;01mif\u001b[39;00m \u001b[38;5;28mself\u001b[39m\u001b[38;5;241m.\u001b[39mconfigs\u001b[38;5;241m.\u001b[39mgrad_clip: \u001b[38;5;66;03m# gradient clip\u001b[39;00m\n\u001b[1;32m    101\u001b[0m     nn\u001b[38;5;241m.\u001b[39mutils\u001b[38;5;241m.\u001b[39mclip_grad_norm(\u001b[38;5;28mself\u001b[39m\u001b[38;5;241m.\u001b[39mmodel\u001b[38;5;241m.\u001b[39mparameters(), \u001b[38;5;241m2\u001b[39m)\n",
      "File \u001b[0;32m/Applications/anaconda3/envs/COMP90051/lib/python3.9/site-packages/torch/_tensor.py:522\u001b[0m, in \u001b[0;36mTensor.backward\u001b[0;34m(self, gradient, retain_graph, create_graph, inputs)\u001b[0m\n\u001b[1;32m    512\u001b[0m \u001b[38;5;28;01mif\u001b[39;00m has_torch_function_unary(\u001b[38;5;28mself\u001b[39m):\n\u001b[1;32m    513\u001b[0m     \u001b[38;5;28;01mreturn\u001b[39;00m handle_torch_function(\n\u001b[1;32m    514\u001b[0m         Tensor\u001b[38;5;241m.\u001b[39mbackward,\n\u001b[1;32m    515\u001b[0m         (\u001b[38;5;28mself\u001b[39m,),\n\u001b[0;32m   (...)\u001b[0m\n\u001b[1;32m    520\u001b[0m         inputs\u001b[38;5;241m=\u001b[39minputs,\n\u001b[1;32m    521\u001b[0m     )\n\u001b[0;32m--> 522\u001b[0m \u001b[43mtorch\u001b[49m\u001b[38;5;241;43m.\u001b[39;49m\u001b[43mautograd\u001b[49m\u001b[38;5;241;43m.\u001b[39;49m\u001b[43mbackward\u001b[49m\u001b[43m(\u001b[49m\n\u001b[1;32m    523\u001b[0m \u001b[43m    \u001b[49m\u001b[38;5;28;43mself\u001b[39;49m\u001b[43m,\u001b[49m\u001b[43m \u001b[49m\u001b[43mgradient\u001b[49m\u001b[43m,\u001b[49m\u001b[43m \u001b[49m\u001b[43mretain_graph\u001b[49m\u001b[43m,\u001b[49m\u001b[43m \u001b[49m\u001b[43mcreate_graph\u001b[49m\u001b[43m,\u001b[49m\u001b[43m \u001b[49m\u001b[43minputs\u001b[49m\u001b[38;5;241;43m=\u001b[39;49m\u001b[43minputs\u001b[49m\n\u001b[1;32m    524\u001b[0m \u001b[43m\u001b[49m\u001b[43m)\u001b[49m\n",
      "File \u001b[0;32m/Applications/anaconda3/envs/COMP90051/lib/python3.9/site-packages/torch/autograd/__init__.py:266\u001b[0m, in \u001b[0;36mbackward\u001b[0;34m(tensors, grad_tensors, retain_graph, create_graph, grad_variables, inputs)\u001b[0m\n\u001b[1;32m    261\u001b[0m     retain_graph \u001b[38;5;241m=\u001b[39m create_graph\n\u001b[1;32m    263\u001b[0m \u001b[38;5;66;03m# The reason we repeat the same comment below is that\u001b[39;00m\n\u001b[1;32m    264\u001b[0m \u001b[38;5;66;03m# some Python versions print out the first line of a multi-line function\u001b[39;00m\n\u001b[1;32m    265\u001b[0m \u001b[38;5;66;03m# calls in the traceback and some print out the last line\u001b[39;00m\n\u001b[0;32m--> 266\u001b[0m \u001b[43mVariable\u001b[49m\u001b[38;5;241;43m.\u001b[39;49m\u001b[43m_execution_engine\u001b[49m\u001b[38;5;241;43m.\u001b[39;49m\u001b[43mrun_backward\u001b[49m\u001b[43m(\u001b[49m\u001b[43m  \u001b[49m\u001b[38;5;66;43;03m# Calls into the C++ engine to run the backward pass\u001b[39;49;00m\n\u001b[1;32m    267\u001b[0m \u001b[43m    \u001b[49m\u001b[43mtensors\u001b[49m\u001b[43m,\u001b[49m\n\u001b[1;32m    268\u001b[0m \u001b[43m    \u001b[49m\u001b[43mgrad_tensors_\u001b[49m\u001b[43m,\u001b[49m\n\u001b[1;32m    269\u001b[0m \u001b[43m    \u001b[49m\u001b[43mretain_graph\u001b[49m\u001b[43m,\u001b[49m\n\u001b[1;32m    270\u001b[0m \u001b[43m    \u001b[49m\u001b[43mcreate_graph\u001b[49m\u001b[43m,\u001b[49m\n\u001b[1;32m    271\u001b[0m \u001b[43m    \u001b[49m\u001b[43minputs\u001b[49m\u001b[43m,\u001b[49m\n\u001b[1;32m    272\u001b[0m \u001b[43m    \u001b[49m\u001b[43mallow_unreachable\u001b[49m\u001b[38;5;241;43m=\u001b[39;49m\u001b[38;5;28;43;01mTrue\u001b[39;49;00m\u001b[43m,\u001b[49m\n\u001b[1;32m    273\u001b[0m \u001b[43m    \u001b[49m\u001b[43maccumulate_grad\u001b[49m\u001b[38;5;241;43m=\u001b[39;49m\u001b[38;5;28;43;01mTrue\u001b[39;49;00m\u001b[43m,\u001b[49m\n\u001b[1;32m    274\u001b[0m \u001b[43m\u001b[49m\u001b[43m)\u001b[49m\n",
      "\u001b[0;31mKeyboardInterrupt\u001b[0m: "
     ]
    }
   ],
   "source": [
    "# LSTM\n",
    "\n",
    "class LSTM_config:\n",
    "    # ----------------- architectual hyperparameters ----------------- #\n",
    "    d_model = 256\n",
    "    n_recurrent_layers = 1\n",
    "    bidirectional = True\n",
    "    n_heads = 8\n",
    "    dropout = 0.1\n",
    "    n_mlp_layers = 0\n",
    "    flatten = False\n",
    "    activation = nn.ReLU()\n",
    "    res_learning = False\n",
    "    mask_flag = False # TODO\n",
    "    train_embedding = False\n",
    "    # ----------------- optimisation hyperparameters ----------------- #\n",
    "    random_state = SEED\n",
    "    batch_size = 128\n",
    "    epochs = 32\n",
    "    lr = 1e-3\n",
    "    patience = 5\n",
    "    # loss = nn.BCELoss()\n",
    "    loss = nn.BCELoss(weight=torch.FloatTensor([pos_prior, neg_prior]))\n",
    "    # validation_loss = nn.BCELoss()\n",
    "    validation_loss = nn.BCELoss(weight=torch.FloatTensor([pos_prior, neg_prior]))\n",
    "    regularisation_loss = None\n",
    "    scheduler = True\n",
    "    grad_clip = True\n",
    "    # ----------------- operation hyperparameters ----------------- #\n",
    "    d_output = 2\n",
    "    seq_len = MAX_SENTENCE_LENGTH\n",
    "    n_unique_tokens = len(raw_token_pytorch_map)\n",
    "    # ----------------- saving hyperparameters ----------------- #\n",
    "    rootpath = home_directory + './'\n",
    "    saving_address = home_directory +  f'./results/'\n",
    "    name = f'LSTM_Classifier'\n",
    "    \n",
    "\n",
    "\n",
    "model = LSTM(LSTM_config) # initialise the model\n",
    "\n",
    "# train the model (all cells except this one will print training log and evaluation at each batch)\n",
    "best_epoch = model.fit(train_x, train_y, val_x, val_y)\n",
    "print()\n",
    "\n",
    "# as model automatically saves best epoch, will now load the best epoch and evaluate on test set\n",
    "model.load()\n",
    "model.eval(val_x, val_y, best_epoch, evaluation_mode = True)"
   ]
  },
  {
   "cell_type": "code",
   "execution_count": null,
   "metadata": {},
   "outputs": [
    {
     "name": "stderr",
     "output_type": "stream",
     "text": [
      " 99%|█████████▉| 98/99 [03:31<00:02,  2.99s/it]"
     ]
    }
   ],
   "source": [
    "# BERT\n",
    "\n",
    "class BERT_config:\n",
    "    # ----------------- architectual hyperparameters ----------------- #\n",
    "    d_model = 128\n",
    "    d_ff = 512 # = 4* d_model\n",
    "    n_heads = 8\n",
    "    dropout = 0.1\n",
    "    e_layers = 3 \n",
    "    embedding_aggregation = 'cls' # TODO\n",
    "    n_mlp_layers = 0\n",
    "    res_learning = False\n",
    "    activation = nn.ReLU()\n",
    "    mask_flag = False # causal mask\n",
    "    train_embedding = False\n",
    "    # ----------------- optimisation hyperparameters ----------------- #\n",
    "    random_state = SEED\n",
    "    batch_size = 128\n",
    "    epochs = 2\n",
    "    lr = 1e-3\n",
    "    patience = 2\n",
    "    # loss = nn.BCELoss()\n",
    "    loss = nn.BCELoss(weight=torch.FloatTensor([pos_prior, neg_prior]))\n",
    "    # validation_loss = nn.BCELoss()\n",
    "    validation_loss = nn.BCELoss(weight=torch.FloatTensor([pos_prior, neg_prior]))\n",
    "    regularisation_loss = None\n",
    "    scheduler = False\n",
    "    grad_clip = False\n",
    "    # ----------------- operation hyperparameters ----------------- #\n",
    "    d_output = 2\n",
    "    seq_len = MAX_SENTENCE_LENGTH\n",
    "    n_unique_tokens = len(raw_token_pytorch_map)\n",
    "    # ----------------- saving hyperparameters ----------------- #\n",
    "    rootpath = home_directory + './'\n",
    "    saving_address = home_directory + f'./results/'\n",
    "    name = f'BERT_Classifier'\n",
    "    \n",
    "\n",
    "\n",
    "model = BERT(BERT_config) # initialise the model\n",
    "\n",
    "# train the model (all cells except this one will print training log and evaluation at each batch)\n",
    "best_epoch = model.fit(train_x, train_y, val_x, val_y)\n",
    "print()\n",
    "\n",
    "# as model automatically saves best epoch, will now load the best epoch and evaluate on test set\n",
    "model.load()\n",
    "model.eval(val_x, val_y, best_epoch, evaluation_mode = True)"
   ]
  },
  {
   "cell_type": "markdown",
   "metadata": {},
   "source": [
    "---\n",
    "# DANN"
   ]
  },
  {
   "cell_type": "code",
   "execution_count": null,
   "metadata": {},
   "outputs": [
    {
     "name": "stderr",
     "output_type": "stream",
     "text": [
      "/Applications/anaconda3/envs/COMP90051/lib/python3.9/site-packages/torch/nn/modules/rnn.py:83: UserWarning: dropout option adds dropout after all but last recurrent layer, so non-zero dropout expects num_layers greater than 1, but got dropout=0.1 and num_layers=1\n",
      "  warnings.warn(\"dropout option adds dropout after all but last \"\n",
      "/Applications/anaconda3/envs/COMP90051/lib/python3.9/site-packages/tqdm/auto.py:21: TqdmWarning: IProgress not found. Please update jupyter and ipywidgets. See https://ipywidgets.readthedocs.io/en/stable/user_install.html\n",
      "  from .autonotebook import tqdm as notebook_tqdm\n",
      "  0%|          | 0/2 [00:00<?, ?it/s]/Users/tg.chenny/Desktop/1. University/2. Masters/7. Statistical Machine Learning/Assignments/A1/COMP90051-A1__Groupwork__Py/PrivatePackages/pytorch/model/model_class/__template__.py:292: UserWarning: torch.nn.utils.clip_grad_norm is now deprecated in favor of torch.nn.utils.clip_grad_norm_.\n",
      "  nn.utils.clip_grad_norm(self.model.parameters(), 2)\n",
      "100%|██████████| 2/2 [00:03<00:00,  1.70s/it]\n"
     ]
    },
    {
     "name": "stdout",
     "output_type": "stream",
     "text": [
      "Epoch 1 Train | Classification Loss:  0.3456 | Accuracy:  0.4900| F1:  0.6047 | Balanced Accuracy:  0.4743 | Domain Loss:  0.3872 | Domain Accuracy:  0.4900\n"
     ]
    },
    {
     "name": "stderr",
     "output_type": "stream",
     "text": [
      "/Applications/anaconda3/envs/COMP90051/lib/python3.9/site-packages/sklearn/metrics/_classification.py:2458: UserWarning: y_pred contains classes not in y_true\n",
      "  warnings.warn(\"y_pred contains classes not in y_true\")\n"
     ]
    },
    {
     "name": "stdout",
     "output_type": "stream",
     "text": [
      "Epoch 1 Val   | Classification Loss:  0.3059 | Accuracy:  0.9400| F1:  0.9691 | Balanced Accuracy:  0.9400 | Domain Loss:  1.0035 | Domain Accuracy:  0.0600\n"
     ]
    },
    {
     "name": "stderr",
     "output_type": "stream",
     "text": [
      "  0%|          | 0/2 [00:00<?, ?it/s]/Users/tg.chenny/Desktop/1. University/2. Masters/7. Statistical Machine Learning/Assignments/A1/COMP90051-A1__Groupwork__Py/PrivatePackages/pytorch/model/model_class/__template__.py:292: UserWarning: torch.nn.utils.clip_grad_norm is now deprecated in favor of torch.nn.utils.clip_grad_norm_.\n",
      "  nn.utils.clip_grad_norm(self.model.parameters(), 2)\n",
      "100%|██████████| 2/2 [00:03<00:00,  1.66s/it]\n"
     ]
    },
    {
     "name": "stdout",
     "output_type": "stream",
     "text": [
      "Epoch 2 Train | Classification Loss:  0.3411 | Accuracy:  0.6050| F1:  0.7189 | Balanced Accuracy:  0.5828 | Domain Loss:  0.5406 | Domain Accuracy:  0.6050\n"
     ]
    },
    {
     "name": "stderr",
     "output_type": "stream",
     "text": [
      "/Applications/anaconda3/envs/COMP90051/lib/python3.9/site-packages/sklearn/metrics/_classification.py:2458: UserWarning: y_pred contains classes not in y_true\n",
      "  warnings.warn(\"y_pred contains classes not in y_true\")\n"
     ]
    },
    {
     "name": "stdout",
     "output_type": "stream",
     "text": [
      "Epoch 2 Val   | Classification Loss:  0.3100 | Accuracy:  0.9350| F1:  0.9664 | Balanced Accuracy:  0.9350 | Domain Loss:  1.2413 | Domain Accuracy:  0.0600\n"
     ]
    },
    {
     "name": "stderr",
     "output_type": "stream",
     "text": [
      "  0%|          | 0/2 [00:00<?, ?it/s]/Users/tg.chenny/Desktop/1. University/2. Masters/7. Statistical Machine Learning/Assignments/A1/COMP90051-A1__Groupwork__Py/PrivatePackages/pytorch/model/model_class/__template__.py:292: UserWarning: torch.nn.utils.clip_grad_norm is now deprecated in favor of torch.nn.utils.clip_grad_norm_.\n",
      "  nn.utils.clip_grad_norm(self.model.parameters(), 2)\n",
      "100%|██████████| 2/2 [00:03<00:00,  1.57s/it]\n"
     ]
    },
    {
     "name": "stdout",
     "output_type": "stream",
     "text": [
      "Epoch 3 Train | Classification Loss:  0.3373 | Accuracy:  0.6200| F1:  0.7305 | Balanced Accuracy:  0.5976 | Domain Loss:  0.6193 | Domain Accuracy:  0.6200\n"
     ]
    },
    {
     "name": "stderr",
     "output_type": "stream",
     "text": [
      "/Applications/anaconda3/envs/COMP90051/lib/python3.9/site-packages/sklearn/metrics/_classification.py:2458: UserWarning: y_pred contains classes not in y_true\n",
      "  warnings.warn(\"y_pred contains classes not in y_true\")\n"
     ]
    },
    {
     "name": "stdout",
     "output_type": "stream",
     "text": [
      "Epoch 3 Val   | Classification Loss:  0.3428 | Accuracy:  0.3550| F1:  0.5240 | Balanced Accuracy:  0.3550 | Domain Loss:  1.1867 | Domain Accuracy:  0.0400\n"
     ]
    },
    {
     "name": "stderr",
     "output_type": "stream",
     "text": [
      "  0%|          | 0/2 [00:00<?, ?it/s]/Users/tg.chenny/Desktop/1. University/2. Masters/7. Statistical Machine Learning/Assignments/A1/COMP90051-A1__Groupwork__Py/PrivatePackages/pytorch/model/model_class/__template__.py:292: UserWarning: torch.nn.utils.clip_grad_norm is now deprecated in favor of torch.nn.utils.clip_grad_norm_.\n",
      "  nn.utils.clip_grad_norm(self.model.parameters(), 2)\n",
      "100%|██████████| 2/2 [00:03<00:00,  1.69s/it]\n"
     ]
    },
    {
     "name": "stdout",
     "output_type": "stream",
     "text": [
      "Epoch 4 Train | Classification Loss:  0.3349 | Accuracy:  0.5900| F1:  0.6095 | Balanced Accuracy:  0.5891 | Domain Loss:  0.5586 | Domain Accuracy:  0.5900\n"
     ]
    },
    {
     "name": "stderr",
     "output_type": "stream",
     "text": [
      "/Applications/anaconda3/envs/COMP90051/lib/python3.9/site-packages/sklearn/metrics/_classification.py:2458: UserWarning: y_pred contains classes not in y_true\n",
      "  warnings.warn(\"y_pred contains classes not in y_true\")\n"
     ]
    },
    {
     "name": "stdout",
     "output_type": "stream",
     "text": [
      "Epoch 4 Val   | Classification Loss:  0.3087 | Accuracy:  0.9300| F1:  0.9637 | Balanced Accuracy:  0.9300 | Domain Loss:  0.9228 | Domain Accuracy:  0.0250\n"
     ]
    },
    {
     "name": "stderr",
     "output_type": "stream",
     "text": [
      "  0%|          | 0/2 [00:00<?, ?it/s]/Users/tg.chenny/Desktop/1. University/2. Masters/7. Statistical Machine Learning/Assignments/A1/COMP90051-A1__Groupwork__Py/PrivatePackages/pytorch/model/model_class/__template__.py:292: UserWarning: torch.nn.utils.clip_grad_norm is now deprecated in favor of torch.nn.utils.clip_grad_norm_.\n",
      "  nn.utils.clip_grad_norm(self.model.parameters(), 2)\n",
      "100%|██████████| 2/2 [00:03<00:00,  1.61s/it]\n"
     ]
    },
    {
     "name": "stdout",
     "output_type": "stream",
     "text": [
      "Epoch 5 Train | Classification Loss:  0.3307 | Accuracy:  0.6200| F1:  0.7305 | Balanced Accuracy:  0.5976 | Domain Loss:  0.4404 | Domain Accuracy:  0.6200\n"
     ]
    },
    {
     "name": "stderr",
     "output_type": "stream",
     "text": [
      "/Applications/anaconda3/envs/COMP90051/lib/python3.9/site-packages/sklearn/metrics/_classification.py:2458: UserWarning: y_pred contains classes not in y_true\n",
      "  warnings.warn(\"y_pred contains classes not in y_true\")\n"
     ]
    },
    {
     "name": "stdout",
     "output_type": "stream",
     "text": [
      "Epoch 5 Val   | Classification Loss:  0.3042 | Accuracy:  0.9450| F1:  0.9717 | Balanced Accuracy:  0.9450 | Domain Loss:  0.7634 | Domain Accuracy:  0.0250\n"
     ]
    },
    {
     "name": "stderr",
     "output_type": "stream",
     "text": [
      "  0%|          | 0/2 [00:00<?, ?it/s]/Users/tg.chenny/Desktop/1. University/2. Masters/7. Statistical Machine Learning/Assignments/A1/COMP90051-A1__Groupwork__Py/PrivatePackages/pytorch/model/model_class/__template__.py:292: UserWarning: torch.nn.utils.clip_grad_norm is now deprecated in favor of torch.nn.utils.clip_grad_norm_.\n",
      "  nn.utils.clip_grad_norm(self.model.parameters(), 2)\n",
      "100%|██████████| 2/2 [00:03<00:00,  1.63s/it]\n"
     ]
    },
    {
     "name": "stdout",
     "output_type": "stream",
     "text": [
      "Epoch 6 Train | Classification Loss:  0.3298 | Accuracy:  0.6350| F1:  0.7420 | Balanced Accuracy:  0.6123 | Domain Loss:  0.3594 | Domain Accuracy:  0.6350\n"
     ]
    },
    {
     "name": "stderr",
     "output_type": "stream",
     "text": [
      "/Applications/anaconda3/envs/COMP90051/lib/python3.9/site-packages/sklearn/metrics/_classification.py:2458: UserWarning: y_pred contains classes not in y_true\n",
      "  warnings.warn(\"y_pred contains classes not in y_true\")\n"
     ]
    },
    {
     "name": "stdout",
     "output_type": "stream",
     "text": [
      "Epoch 6 Val   | Classification Loss:  0.3162 | Accuracy:  0.8600| F1:  0.9247 | Balanced Accuracy:  0.8600 | Domain Loss:  0.5915 | Domain Accuracy:  1.0000\n"
     ]
    },
    {
     "name": "stderr",
     "output_type": "stream",
     "text": [
      "  0%|          | 0/2 [00:00<?, ?it/s]/Users/tg.chenny/Desktop/1. University/2. Masters/7. Statistical Machine Learning/Assignments/A1/COMP90051-A1__Groupwork__Py/PrivatePackages/pytorch/model/model_class/__template__.py:292: UserWarning: torch.nn.utils.clip_grad_norm is now deprecated in favor of torch.nn.utils.clip_grad_norm_.\n",
      "  nn.utils.clip_grad_norm(self.model.parameters(), 2)\n",
      "100%|██████████| 2/2 [00:03<00:00,  1.58s/it]\n"
     ]
    },
    {
     "name": "stdout",
     "output_type": "stream",
     "text": [
      "Epoch 7 Train | Classification Loss:  0.3306 | Accuracy:  0.6600| F1:  0.7500 | Balanced Accuracy:  0.6407 | Domain Loss:  0.2772 | Domain Accuracy:  0.6600\n"
     ]
    },
    {
     "name": "stderr",
     "output_type": "stream",
     "text": [
      "/Applications/anaconda3/envs/COMP90051/lib/python3.9/site-packages/sklearn/metrics/_classification.py:2458: UserWarning: y_pred contains classes not in y_true\n",
      "  warnings.warn(\"y_pred contains classes not in y_true\")\n"
     ]
    },
    {
     "name": "stdout",
     "output_type": "stream",
     "text": [
      "Epoch 7 Val   | Classification Loss:  0.3336 | Accuracy:  0.7350| F1:  0.8473 | Balanced Accuracy:  0.7350 | Domain Loss:  0.4540 | Domain Accuracy:  1.0000\n",
      "\n",
      "Epoch 5 Val   | Classification Loss:  0.3042 | Accuracy:  0.9450| F1:  0.9717 | Balanced Accuracy:  0.9450 | Domain Loss:  0.7634 | Domain Accuracy:  0.0250\n"
     ]
    },
    {
     "name": "stderr",
     "output_type": "stream",
     "text": [
      "/Applications/anaconda3/envs/COMP90051/lib/python3.9/site-packages/sklearn/metrics/_classification.py:2458: UserWarning: y_pred contains classes not in y_true\n",
      "  warnings.warn(\"y_pred contains classes not in y_true\")\n"
     ]
    }
   ],
   "source": [
    "# LSTM_DANN\n",
    "\n",
    "class LSTM_DANN_config:\n",
    "    # ----------------- architectual hyperparameters ----------------- #\n",
    "    d_model = 256\n",
    "    n_recurrent_layers = 1\n",
    "    bidirectional = True\n",
    "    n_heads = 0\n",
    "    dropout = 0.1\n",
    "    n_mlp_clf_layers = 0\n",
    "    n_mlp_dom_layers = 0\n",
    "    flatten = False\n",
    "    activation = nn.ReLU()\n",
    "    res_learning = False\n",
    "    mask_flag = False # TODO\n",
    "    train_embedding = False\n",
    "    # ----------------- optimisation hyperparameters ----------------- #\n",
    "    random_state = SEED\n",
    "    batch_size = 128\n",
    "    epochs = 32\n",
    "    lr = 1e-3\n",
    "    patience = 5\n",
    "    # loss = nn.BCELoss()\n",
    "    loss = nn.BCELoss(weight=torch.FloatTensor([pos_prior, neg_prior]))\n",
    "    # validation_loss = nn.BCELoss()\n",
    "    validation_loss = nn.BCELoss(weight=torch.FloatTensor([pos_prior, neg_prior]))\n",
    "    domain_loss = nn.BCELoss()\n",
    "    alpha = 0.5\n",
    "    regularisation_loss = None\n",
    "    scheduler = True\n",
    "    grad_clip = True\n",
    "    # ----------------- operation hyperparameters ----------------- #\n",
    "    d_output = 2\n",
    "    seq_len = MAX_SENTENCE_LENGTH\n",
    "    n_unique_tokens = len(raw_token_pytorch_map)\n",
    "    # ----------------- saving hyperparameters ----------------- #\n",
    "    rootpath = home_directory + './'\n",
    "    saving_address = home_directory +  f'./results/'\n",
    "    name = f'LSTM_DANN_Classifier'\n",
    "    \n",
    "\n",
    "\n",
    "model = LSTM_DANN(LSTM_DANN_config) # initialise the model\n",
    "\n",
    "# train the model (all cells except this one will print training log and evaluation at each batch)\n",
    "best_epoch = model.fit(train_x, train_y, train_dom, val_x, val_y, val_dom)\n",
    "print()\n",
    "\n",
    "# as model automatically saves best epoch, will now load the best epoch and evaluate on test set\n",
    "model.load()\n",
    "model.eval(val_x, val_y, val_dom, best_epoch, evaluation_mode = True)"
   ]
  },
  {
   "cell_type": "code",
   "execution_count": 17,
   "metadata": {},
   "outputs": [
    {
     "name": "stderr",
     "output_type": "stream",
     "text": [
      "100%|██████████| 2/2 [00:03<00:00,  1.57s/it]\n"
     ]
    },
    {
     "name": "stdout",
     "output_type": "stream",
     "text": [
      "Epoch 1 Train | Classification Loss:  0.4664 | Accuracy:  0.5100| F1:  0.4494 | Balanced Accuracy:  0.5185 | Domain Loss:  0.8735 | Domain Accuracy:  0.5100\n"
     ]
    },
    {
     "name": "stderr",
     "output_type": "stream",
     "text": [
      "/Applications/anaconda3/envs/COMP90051/lib/python3.9/site-packages/sklearn/metrics/_classification.py:386: UserWarning: A single label was found in 'y_true' and 'y_pred'. For the confusion matrix to have the correct shape, use the 'labels' parameter to pass all known labels.\n",
      "  warnings.warn(\n"
     ]
    },
    {
     "name": "stdout",
     "output_type": "stream",
     "text": [
      "Epoch 1 Val   | Classification Loss:  0.1735 | Accuracy:  1.0000| F1:  1.0000 | Balanced Accuracy:  1.0000 | Domain Loss:  6.3180 | Domain Accuracy:  0.0000\n"
     ]
    },
    {
     "name": "stderr",
     "output_type": "stream",
     "text": [
      "100%|██████████| 2/2 [00:04<00:00,  2.07s/it]\n"
     ]
    },
    {
     "name": "stdout",
     "output_type": "stream",
     "text": [
      "Epoch 2 Train | Classification Loss:  0.3802 | Accuracy:  0.4800| F1:  0.5556 | Balanced Accuracy:  0.4715 | Domain Loss:  3.5478 | Domain Accuracy:  0.4800\n"
     ]
    },
    {
     "name": "stderr",
     "output_type": "stream",
     "text": [
      "/Applications/anaconda3/envs/COMP90051/lib/python3.9/site-packages/sklearn/metrics/_classification.py:2458: UserWarning: y_pred contains classes not in y_true\n",
      "  warnings.warn(\"y_pred contains classes not in y_true\")\n"
     ]
    },
    {
     "name": "stdout",
     "output_type": "stream",
     "text": [
      "Epoch 2 Val   | Classification Loss:  0.6694 | Accuracy:  0.0000| F1:  0.0000 | Balanced Accuracy:  0.0000 | Domain Loss:  9.0711 | Domain Accuracy:  0.0000\n"
     ]
    },
    {
     "name": "stderr",
     "output_type": "stream",
     "text": [
      "100%|██████████| 2/2 [00:03<00:00,  1.86s/it]\n"
     ]
    },
    {
     "name": "stdout",
     "output_type": "stream",
     "text": [
      "Epoch 3 Train | Classification Loss:  0.4163 | Accuracy:  0.4700| F1:  0.0000 | Balanced Accuracy:  0.5000 | Domain Loss:  4.5336 | Domain Accuracy:  0.4700\n"
     ]
    },
    {
     "name": "stderr",
     "output_type": "stream",
     "text": [
      "/Applications/anaconda3/envs/COMP90051/lib/python3.9/site-packages/sklearn/metrics/_classification.py:2458: UserWarning: y_pred contains classes not in y_true\n",
      "  warnings.warn(\"y_pred contains classes not in y_true\")\n"
     ]
    },
    {
     "name": "stdout",
     "output_type": "stream",
     "text": [
      "Epoch 3 Val   | Classification Loss:  0.5520 | Accuracy:  0.0000| F1:  0.0000 | Balanced Accuracy:  0.0000 | Domain Loss:  9.5167 | Domain Accuracy:  0.0000\n"
     ]
    },
    {
     "name": "stderr",
     "output_type": "stream",
     "text": [
      "100%|██████████| 2/2 [00:03<00:00,  1.82s/it]\n"
     ]
    },
    {
     "name": "stdout",
     "output_type": "stream",
     "text": [
      "Epoch 4 Train | Classification Loss:  0.3706 | Accuracy:  0.4600| F1:  0.0000 | Balanced Accuracy:  0.4894 | Domain Loss:  4.6356 | Domain Accuracy:  0.4600\n"
     ]
    },
    {
     "name": "stderr",
     "output_type": "stream",
     "text": [
      "/Applications/anaconda3/envs/COMP90051/lib/python3.9/site-packages/sklearn/metrics/_classification.py:2458: UserWarning: y_pred contains classes not in y_true\n",
      "  warnings.warn(\"y_pred contains classes not in y_true\")\n"
     ]
    },
    {
     "name": "stdout",
     "output_type": "stream",
     "text": [
      "Epoch 4 Val   | Classification Loss:  0.3428 | Accuracy:  0.5700| F1:  0.7261 | Balanced Accuracy:  0.5700 | Domain Loss:  9.2376 | Domain Accuracy:  0.0000\n"
     ]
    },
    {
     "name": "stderr",
     "output_type": "stream",
     "text": [
      "100%|██████████| 2/2 [00:02<00:00,  1.47s/it]\n"
     ]
    },
    {
     "name": "stdout",
     "output_type": "stream",
     "text": [
      "Epoch 5 Train | Classification Loss:  0.3438 | Accuracy:  0.5450| F1:  0.6192 | Balanced Accuracy:  0.5352 | Domain Loss:  4.4875 | Domain Accuracy:  0.5450\n"
     ]
    },
    {
     "name": "stderr",
     "output_type": "stream",
     "text": [
      "/Applications/anaconda3/envs/COMP90051/lib/python3.9/site-packages/sklearn/metrics/_classification.py:2458: UserWarning: y_pred contains classes not in y_true\n",
      "  warnings.warn(\"y_pred contains classes not in y_true\")\n"
     ]
    },
    {
     "name": "stdout",
     "output_type": "stream",
     "text": [
      "Epoch 5 Val   | Classification Loss:  0.3463 | Accuracy:  0.5300| F1:  0.6928 | Balanced Accuracy:  0.5300 | Domain Loss:  8.9274 | Domain Accuracy:  0.0000\n"
     ]
    },
    {
     "name": "stderr",
     "output_type": "stream",
     "text": [
      "100%|██████████| 2/2 [00:03<00:00,  1.69s/it]\n"
     ]
    },
    {
     "name": "stdout",
     "output_type": "stream",
     "text": [
      "Epoch 6 Train | Classification Loss:  0.3530 | Accuracy:  0.5200| F1:  0.4483 | Balanced Accuracy:  0.5297 | Domain Loss:  4.3510 | Domain Accuracy:  0.5200\n"
     ]
    },
    {
     "name": "stderr",
     "output_type": "stream",
     "text": [
      "/Applications/anaconda3/envs/COMP90051/lib/python3.9/site-packages/sklearn/metrics/_classification.py:2458: UserWarning: y_pred contains classes not in y_true\n",
      "  warnings.warn(\"y_pred contains classes not in y_true\")\n"
     ]
    },
    {
     "name": "stdout",
     "output_type": "stream",
     "text": [
      "Epoch 6 Val   | Classification Loss:  0.4124 | Accuracy:  0.0000| F1:  0.0000 | Balanced Accuracy:  0.0000 | Domain Loss:  8.6567 | Domain Accuracy:  0.0000\n"
     ]
    },
    {
     "name": "stderr",
     "output_type": "stream",
     "text": [
      "100%|██████████| 2/2 [00:02<00:00,  1.34s/it]\n"
     ]
    },
    {
     "name": "stdout",
     "output_type": "stream",
     "text": [
      "Epoch 7 Train | Classification Loss:  0.3532 | Accuracy:  0.4750| F1:  0.0870 | Balanced Accuracy:  0.5023 | Domain Loss:  4.2187 | Domain Accuracy:  0.4750\n"
     ]
    },
    {
     "name": "stderr",
     "output_type": "stream",
     "text": [
      "/Applications/anaconda3/envs/COMP90051/lib/python3.9/site-packages/sklearn/metrics/_classification.py:2458: UserWarning: y_pred contains classes not in y_true\n",
      "  warnings.warn(\"y_pred contains classes not in y_true\")\n"
     ]
    },
    {
     "name": "stdout",
     "output_type": "stream",
     "text": [
      "Epoch 7 Val   | Classification Loss:  0.4133 | Accuracy:  0.0000| F1:  0.0000 | Balanced Accuracy:  0.0000 | Domain Loss:  8.3604 | Domain Accuracy:  0.0000\n"
     ]
    },
    {
     "name": "stderr",
     "output_type": "stream",
     "text": [
      "100%|██████████| 2/2 [00:02<00:00,  1.40s/it]\n"
     ]
    },
    {
     "name": "stdout",
     "output_type": "stream",
     "text": [
      "Epoch 8 Train | Classification Loss:  0.3532 | Accuracy:  0.4600| F1:  0.0526 | Balanced Accuracy:  0.4876 | Domain Loss:  4.0713 | Domain Accuracy:  0.4600\n"
     ]
    },
    {
     "name": "stderr",
     "output_type": "stream",
     "text": [
      "/Applications/anaconda3/envs/COMP90051/lib/python3.9/site-packages/sklearn/metrics/_classification.py:2458: UserWarning: y_pred contains classes not in y_true\n",
      "  warnings.warn(\"y_pred contains classes not in y_true\")\n"
     ]
    },
    {
     "name": "stdout",
     "output_type": "stream",
     "text": [
      "Epoch 8 Val   | Classification Loss:  0.3730 | Accuracy:  0.0000| F1:  0.0000 | Balanced Accuracy:  0.0000 | Domain Loss:  8.0317 | Domain Accuracy:  0.0000\n"
     ]
    },
    {
     "name": "stderr",
     "output_type": "stream",
     "text": [
      "100%|██████████| 2/2 [00:03<00:00,  1.56s/it]\n"
     ]
    },
    {
     "name": "stdout",
     "output_type": "stream",
     "text": [
      "Epoch 9 Train | Classification Loss:  0.3510 | Accuracy:  0.4750| F1:  0.3312 | Balanced Accuracy:  0.4897 | Domain Loss:  3.9038 | Domain Accuracy:  0.4750\n"
     ]
    },
    {
     "name": "stderr",
     "output_type": "stream",
     "text": [
      "/Applications/anaconda3/envs/COMP90051/lib/python3.9/site-packages/sklearn/metrics/_classification.py:2458: UserWarning: y_pred contains classes not in y_true\n",
      "  warnings.warn(\"y_pred contains classes not in y_true\")\n"
     ]
    },
    {
     "name": "stdout",
     "output_type": "stream",
     "text": [
      "Epoch 9 Val   | Classification Loss:  0.3398 | Accuracy:  0.6550| F1:  0.7915 | Balanced Accuracy:  0.6550 | Domain Loss:  7.6850 | Domain Accuracy:  0.0000\n"
     ]
    },
    {
     "name": "stderr",
     "output_type": "stream",
     "text": [
      "100%|██████████| 2/2 [00:03<00:00,  1.67s/it]\n"
     ]
    },
    {
     "name": "stdout",
     "output_type": "stream",
     "text": [
      "Epoch 10 Train | Classification Loss:  0.3486 | Accuracy:  0.5200| F1:  0.6000 | Balanced Accuracy:  0.5098 | Domain Loss:  3.7339 | Domain Accuracy:  0.5200\n"
     ]
    },
    {
     "name": "stderr",
     "output_type": "stream",
     "text": [
      "/Applications/anaconda3/envs/COMP90051/lib/python3.9/site-packages/sklearn/metrics/_classification.py:386: UserWarning: A single label was found in 'y_true' and 'y_pred'. For the confusion matrix to have the correct shape, use the 'labels' parameter to pass all known labels.\n",
      "  warnings.warn(\n"
     ]
    },
    {
     "name": "stdout",
     "output_type": "stream",
     "text": [
      "Epoch 10 Val   | Classification Loss:  0.3201 | Accuracy:  1.0000| F1:  1.0000 | Balanced Accuracy:  1.0000 | Domain Loss:  7.3309 | Domain Accuracy:  0.0000\n"
     ]
    },
    {
     "name": "stderr",
     "output_type": "stream",
     "text": [
      "100%|██████████| 2/2 [00:04<00:00,  2.27s/it]\n"
     ]
    },
    {
     "name": "stdout",
     "output_type": "stream",
     "text": [
      "Epoch 11 Train | Classification Loss:  0.3431 | Accuracy:  0.5350| F1:  0.6381 | Balanced Accuracy:  0.5198 | Domain Loss:  3.5617 | Domain Accuracy:  0.5350\n"
     ]
    },
    {
     "name": "stderr",
     "output_type": "stream",
     "text": [
      "/Applications/anaconda3/envs/COMP90051/lib/python3.9/site-packages/sklearn/metrics/_classification.py:2458: UserWarning: y_pred contains classes not in y_true\n",
      "  warnings.warn(\"y_pred contains classes not in y_true\")\n"
     ]
    },
    {
     "name": "stdout",
     "output_type": "stream",
     "text": [
      "Epoch 11 Val   | Classification Loss:  0.3364 | Accuracy:  0.7100| F1:  0.8304 | Balanced Accuracy:  0.7100 | Domain Loss:  6.9767 | Domain Accuracy:  0.0000\n"
     ]
    },
    {
     "name": "stderr",
     "output_type": "stream",
     "text": [
      "100%|██████████| 2/2 [00:03<00:00,  1.53s/it]\n"
     ]
    },
    {
     "name": "stdout",
     "output_type": "stream",
     "text": [
      "Epoch 12 Train | Classification Loss:  0.3476 | Accuracy:  0.5400| F1:  0.5577 | Balanced Accuracy:  0.5395 | Domain Loss:  3.3872 | Domain Accuracy:  0.5400\n"
     ]
    },
    {
     "name": "stderr",
     "output_type": "stream",
     "text": [
      "/Applications/anaconda3/envs/COMP90051/lib/python3.9/site-packages/sklearn/metrics/_classification.py:2458: UserWarning: y_pred contains classes not in y_true\n",
      "  warnings.warn(\"y_pred contains classes not in y_true\")\n"
     ]
    },
    {
     "name": "stdout",
     "output_type": "stream",
     "text": [
      "Epoch 12 Val   | Classification Loss:  0.3646 | Accuracy:  0.0100| F1:  0.0198 | Balanced Accuracy:  0.0100 | Domain Loss:  6.6186 | Domain Accuracy:  0.0000\n"
     ]
    },
    {
     "name": "stderr",
     "output_type": "stream",
     "text": [
      "100%|██████████| 2/2 [00:02<00:00,  1.46s/it]\n"
     ]
    },
    {
     "name": "stdout",
     "output_type": "stream",
     "text": [
      "Epoch 13 Train | Classification Loss:  0.3480 | Accuracy:  0.5100| F1:  0.4167 | Balanced Accuracy:  0.5215 | Domain Loss:  3.2124 | Domain Accuracy:  0.5100\n"
     ]
    },
    {
     "name": "stderr",
     "output_type": "stream",
     "text": [
      "/Applications/anaconda3/envs/COMP90051/lib/python3.9/site-packages/sklearn/metrics/_classification.py:2458: UserWarning: y_pred contains classes not in y_true\n",
      "  warnings.warn(\"y_pred contains classes not in y_true\")\n"
     ]
    },
    {
     "name": "stdout",
     "output_type": "stream",
     "text": [
      "Epoch 13 Val   | Classification Loss:  0.3631 | Accuracy:  0.0350| F1:  0.0676 | Balanced Accuracy:  0.0350 | Domain Loss:  6.2592 | Domain Accuracy:  0.0000\n"
     ]
    },
    {
     "name": "stderr",
     "output_type": "stream",
     "text": [
      "100%|██████████| 2/2 [00:02<00:00,  1.49s/it]\n"
     ]
    },
    {
     "name": "stdout",
     "output_type": "stream",
     "text": [
      "Epoch 14 Train | Classification Loss:  0.3476 | Accuracy:  0.5150| F1:  0.4813 | Balanced Accuracy:  0.5208 | Domain Loss:  3.0387 | Domain Accuracy:  0.5150\n"
     ]
    },
    {
     "name": "stderr",
     "output_type": "stream",
     "text": [
      "/Applications/anaconda3/envs/COMP90051/lib/python3.9/site-packages/sklearn/metrics/_classification.py:2458: UserWarning: y_pred contains classes not in y_true\n",
      "  warnings.warn(\"y_pred contains classes not in y_true\")\n"
     ]
    },
    {
     "name": "stdout",
     "output_type": "stream",
     "text": [
      "Epoch 14 Val   | Classification Loss:  0.3301 | Accuracy:  0.8050| F1:  0.8920 | Balanced Accuracy:  0.8050 | Domain Loss:  5.9037 | Domain Accuracy:  0.0000\n"
     ]
    },
    {
     "name": "stderr",
     "output_type": "stream",
     "text": [
      "100%|██████████| 2/2 [00:03<00:00,  1.50s/it]\n"
     ]
    },
    {
     "name": "stdout",
     "output_type": "stream",
     "text": [
      "Epoch 15 Train | Classification Loss:  0.3415 | Accuracy:  0.5100| F1:  0.6111 | Balanced Accuracy:  0.4962 | Domain Loss:  2.8633 | Domain Accuracy:  0.5100\n"
     ]
    },
    {
     "name": "stderr",
     "output_type": "stream",
     "text": [
      "/Applications/anaconda3/envs/COMP90051/lib/python3.9/site-packages/sklearn/metrics/_classification.py:386: UserWarning: A single label was found in 'y_true' and 'y_pred'. For the confusion matrix to have the correct shape, use the 'labels' parameter to pass all known labels.\n",
      "  warnings.warn(\n"
     ]
    },
    {
     "name": "stdout",
     "output_type": "stream",
     "text": [
      "Epoch 15 Val   | Classification Loss:  0.3021 | Accuracy:  1.0000| F1:  1.0000 | Balanced Accuracy:  1.0000 | Domain Loss:  5.5531 | Domain Accuracy:  0.0000\n"
     ]
    },
    {
     "name": "stderr",
     "output_type": "stream",
     "text": [
      "100%|██████████| 2/2 [00:02<00:00,  1.43s/it]\n"
     ]
    },
    {
     "name": "stdout",
     "output_type": "stream",
     "text": [
      "Epoch 16 Train | Classification Loss:  0.3424 | Accuracy:  0.5550| F1:  0.6920 | Balanced Accuracy:  0.5302 | Domain Loss:  2.6924 | Domain Accuracy:  0.5550\n"
     ]
    },
    {
     "name": "stderr",
     "output_type": "stream",
     "text": [
      "/Applications/anaconda3/envs/COMP90051/lib/python3.9/site-packages/sklearn/metrics/_classification.py:386: UserWarning: A single label was found in 'y_true' and 'y_pred'. For the confusion matrix to have the correct shape, use the 'labels' parameter to pass all known labels.\n",
      "  warnings.warn(\n"
     ]
    },
    {
     "name": "stdout",
     "output_type": "stream",
     "text": [
      "Epoch 16 Val   | Classification Loss:  0.2767 | Accuracy:  1.0000| F1:  1.0000 | Balanced Accuracy:  1.0000 | Domain Loss:  5.2088 | Domain Accuracy:  0.0000\n"
     ]
    },
    {
     "name": "stderr",
     "output_type": "stream",
     "text": [
      "100%|██████████| 2/2 [00:02<00:00,  1.47s/it]\n"
     ]
    },
    {
     "name": "stdout",
     "output_type": "stream",
     "text": [
      "Epoch 17 Train | Classification Loss:  0.3427 | Accuracy:  0.5350| F1:  0.6910 | Balanced Accuracy:  0.5065 | Domain Loss:  2.5226 | Domain Accuracy:  0.5350\n"
     ]
    },
    {
     "name": "stderr",
     "output_type": "stream",
     "text": [
      "/Applications/anaconda3/envs/COMP90051/lib/python3.9/site-packages/sklearn/metrics/_classification.py:386: UserWarning: A single label was found in 'y_true' and 'y_pred'. For the confusion matrix to have the correct shape, use the 'labels' parameter to pass all known labels.\n",
      "  warnings.warn(\n"
     ]
    },
    {
     "name": "stdout",
     "output_type": "stream",
     "text": [
      "Epoch 17 Val   | Classification Loss:  0.2738 | Accuracy:  1.0000| F1:  1.0000 | Balanced Accuracy:  1.0000 | Domain Loss:  4.8716 | Domain Accuracy:  0.0000\n"
     ]
    },
    {
     "name": "stderr",
     "output_type": "stream",
     "text": [
      "100%|██████████| 2/2 [00:02<00:00,  1.44s/it]\n"
     ]
    },
    {
     "name": "stdout",
     "output_type": "stream",
     "text": [
      "Epoch 18 Train | Classification Loss:  0.3448 | Accuracy:  0.5300| F1:  0.6928 | Balanced Accuracy:  0.5000 | Domain Loss:  2.3588 | Domain Accuracy:  0.5300\n"
     ]
    },
    {
     "name": "stderr",
     "output_type": "stream",
     "text": [
      "/Applications/anaconda3/envs/COMP90051/lib/python3.9/site-packages/sklearn/metrics/_classification.py:386: UserWarning: A single label was found in 'y_true' and 'y_pred'. For the confusion matrix to have the correct shape, use the 'labels' parameter to pass all known labels.\n",
      "  warnings.warn(\n"
     ]
    },
    {
     "name": "stdout",
     "output_type": "stream",
     "text": [
      "Epoch 18 Val   | Classification Loss:  0.2835 | Accuracy:  1.0000| F1:  1.0000 | Balanced Accuracy:  1.0000 | Domain Loss:  4.5419 | Domain Accuracy:  0.0000\n"
     ]
    },
    {
     "name": "stderr",
     "output_type": "stream",
     "text": [
      "100%|██████████| 2/2 [00:02<00:00,  1.49s/it]\n"
     ]
    },
    {
     "name": "stdout",
     "output_type": "stream",
     "text": [
      "Epoch 19 Train | Classification Loss:  0.3496 | Accuracy:  0.5350| F1:  0.6910 | Balanced Accuracy:  0.5065 | Domain Loss:  2.1981 | Domain Accuracy:  0.5350\n"
     ]
    },
    {
     "name": "stderr",
     "output_type": "stream",
     "text": [
      "/Applications/anaconda3/envs/COMP90051/lib/python3.9/site-packages/sklearn/metrics/_classification.py:386: UserWarning: A single label was found in 'y_true' and 'y_pred'. For the confusion matrix to have the correct shape, use the 'labels' parameter to pass all known labels.\n",
      "  warnings.warn(\n"
     ]
    },
    {
     "name": "stdout",
     "output_type": "stream",
     "text": [
      "Epoch 19 Val   | Classification Loss:  0.2994 | Accuracy:  1.0000| F1:  1.0000 | Balanced Accuracy:  1.0000 | Domain Loss:  4.2205 | Domain Accuracy:  0.0000\n"
     ]
    },
    {
     "name": "stderr",
     "output_type": "stream",
     "text": [
      "100%|██████████| 2/2 [00:02<00:00,  1.42s/it]\n"
     ]
    },
    {
     "name": "stdout",
     "output_type": "stream",
     "text": [
      "Epoch 20 Train | Classification Loss:  0.3474 | Accuracy:  0.5100| F1:  0.6500 | Balanced Accuracy:  0.4878 | Domain Loss:  2.0400 | Domain Accuracy:  0.5100\n"
     ]
    },
    {
     "name": "stderr",
     "output_type": "stream",
     "text": [
      "/Applications/anaconda3/envs/COMP90051/lib/python3.9/site-packages/sklearn/metrics/_classification.py:2458: UserWarning: y_pred contains classes not in y_true\n",
      "  warnings.warn(\"y_pred contains classes not in y_true\")\n"
     ]
    },
    {
     "name": "stdout",
     "output_type": "stream",
     "text": [
      "Epoch 20 Val   | Classification Loss:  0.3129 | Accuracy:  0.9850| F1:  0.9924 | Balanced Accuracy:  0.9850 | Domain Loss:  3.9097 | Domain Accuracy:  0.0000\n"
     ]
    },
    {
     "name": "stderr",
     "output_type": "stream",
     "text": [
      "100%|██████████| 2/2 [00:02<00:00,  1.49s/it]\n"
     ]
    },
    {
     "name": "stdout",
     "output_type": "stream",
     "text": [
      "Epoch 21 Train | Classification Loss:  0.3468 | Accuracy:  0.5000| F1:  0.6324 | Balanced Accuracy:  0.4801 | Domain Loss:  1.8902 | Domain Accuracy:  0.5000\n"
     ]
    },
    {
     "name": "stderr",
     "output_type": "stream",
     "text": [
      "/Applications/anaconda3/envs/COMP90051/lib/python3.9/site-packages/sklearn/metrics/_classification.py:386: UserWarning: A single label was found in 'y_true' and 'y_pred'. For the confusion matrix to have the correct shape, use the 'labels' parameter to pass all known labels.\n",
      "  warnings.warn(\n"
     ]
    },
    {
     "name": "stdout",
     "output_type": "stream",
     "text": [
      "Epoch 21 Val   | Classification Loss:  0.2897 | Accuracy:  1.0000| F1:  1.0000 | Balanced Accuracy:  1.0000 | Domain Loss:  3.6166 | Domain Accuracy:  0.0000\n"
     ]
    },
    {
     "name": "stderr",
     "output_type": "stream",
     "text": [
      "100%|██████████| 2/2 [00:02<00:00,  1.45s/it]\n"
     ]
    },
    {
     "name": "stdout",
     "output_type": "stream",
     "text": [
      "Epoch 22 Train | Classification Loss:  0.3483 | Accuracy:  0.5200| F1:  0.6821 | Balanced Accuracy:  0.4912 | Domain Loss:  1.7479 | Domain Accuracy:  0.5200\n"
     ]
    },
    {
     "name": "stderr",
     "output_type": "stream",
     "text": [
      "/Applications/anaconda3/envs/COMP90051/lib/python3.9/site-packages/sklearn/metrics/_classification.py:386: UserWarning: A single label was found in 'y_true' and 'y_pred'. For the confusion matrix to have the correct shape, use the 'labels' parameter to pass all known labels.\n",
      "  warnings.warn(\n"
     ]
    },
    {
     "name": "stdout",
     "output_type": "stream",
     "text": [
      "Epoch 22 Val   | Classification Loss:  0.2562 | Accuracy:  1.0000| F1:  1.0000 | Balanced Accuracy:  1.0000 | Domain Loss:  3.3367 | Domain Accuracy:  0.0000\n"
     ]
    },
    {
     "name": "stderr",
     "output_type": "stream",
     "text": [
      "100%|██████████| 2/2 [00:03<00:00,  1.57s/it]\n"
     ]
    },
    {
     "name": "stdout",
     "output_type": "stream",
     "text": [
      "Epoch 23 Train | Classification Loss:  0.3596 | Accuracy:  0.5250| F1:  0.6885 | Balanced Accuracy:  0.4953 | Domain Loss:  1.6119 | Domain Accuracy:  0.5250\n"
     ]
    },
    {
     "name": "stderr",
     "output_type": "stream",
     "text": [
      "/Applications/anaconda3/envs/COMP90051/lib/python3.9/site-packages/sklearn/metrics/_classification.py:386: UserWarning: A single label was found in 'y_true' and 'y_pred'. For the confusion matrix to have the correct shape, use the 'labels' parameter to pass all known labels.\n",
      "  warnings.warn(\n"
     ]
    },
    {
     "name": "stdout",
     "output_type": "stream",
     "text": [
      "Epoch 23 Val   | Classification Loss:  0.2535 | Accuracy:  1.0000| F1:  1.0000 | Balanced Accuracy:  1.0000 | Domain Loss:  3.0636 | Domain Accuracy:  0.0000\n"
     ]
    },
    {
     "name": "stderr",
     "output_type": "stream",
     "text": [
      "100%|██████████| 2/2 [00:02<00:00,  1.44s/it]\n"
     ]
    },
    {
     "name": "stdout",
     "output_type": "stream",
     "text": [
      "Epoch 24 Train | Classification Loss:  0.3489 | Accuracy:  0.5400| F1:  0.6933 | Balanced Accuracy:  0.5118 | Domain Loss:  1.4755 | Domain Accuracy:  0.5400\n"
     ]
    },
    {
     "name": "stderr",
     "output_type": "stream",
     "text": [
      "/Applications/anaconda3/envs/COMP90051/lib/python3.9/site-packages/sklearn/metrics/_classification.py:2458: UserWarning: y_pred contains classes not in y_true\n",
      "  warnings.warn(\"y_pred contains classes not in y_true\")\n"
     ]
    },
    {
     "name": "stdout",
     "output_type": "stream",
     "text": [
      "Epoch 24 Val   | Classification Loss:  0.3136 | Accuracy:  0.8300| F1:  0.9071 | Balanced Accuracy:  0.8300 | Domain Loss:  2.7917 | Domain Accuracy:  0.0000\n"
     ]
    },
    {
     "name": "stderr",
     "output_type": "stream",
     "text": [
      "100%|██████████| 2/2 [00:02<00:00,  1.48s/it]\n"
     ]
    },
    {
     "name": "stdout",
     "output_type": "stream",
     "text": [
      "Epoch 25 Train | Classification Loss:  0.3443 | Accuracy:  0.5650| F1:  0.6692 | Balanced Accuracy:  0.5481 | Domain Loss:  1.3446 | Domain Accuracy:  0.5650\n"
     ]
    },
    {
     "name": "stderr",
     "output_type": "stream",
     "text": [
      "/Applications/anaconda3/envs/COMP90051/lib/python3.9/site-packages/sklearn/metrics/_classification.py:2458: UserWarning: y_pred contains classes not in y_true\n",
      "  warnings.warn(\"y_pred contains classes not in y_true\")\n"
     ]
    },
    {
     "name": "stdout",
     "output_type": "stream",
     "text": [
      "Epoch 25 Val   | Classification Loss:  0.3167 | Accuracy:  0.7750| F1:  0.8732 | Balanced Accuracy:  0.7750 | Domain Loss:  2.5434 | Domain Accuracy:  0.0000\n"
     ]
    },
    {
     "name": "stderr",
     "output_type": "stream",
     "text": [
      "100%|██████████| 2/2 [00:02<00:00,  1.42s/it]\n"
     ]
    },
    {
     "name": "stdout",
     "output_type": "stream",
     "text": [
      "Epoch 26 Train | Classification Loss:  0.3421 | Accuracy:  0.5450| F1:  0.6513 | Balanced Accuracy:  0.5286 | Domain Loss:  1.2248 | Domain Accuracy:  0.5450\n"
     ]
    },
    {
     "name": "stderr",
     "output_type": "stream",
     "text": [
      "/Applications/anaconda3/envs/COMP90051/lib/python3.9/site-packages/sklearn/metrics/_classification.py:386: UserWarning: A single label was found in 'y_true' and 'y_pred'. For the confusion matrix to have the correct shape, use the 'labels' parameter to pass all known labels.\n",
      "  warnings.warn(\n"
     ]
    },
    {
     "name": "stdout",
     "output_type": "stream",
     "text": [
      "Epoch 26 Val   | Classification Loss:  0.2852 | Accuracy:  1.0000| F1:  1.0000 | Balanced Accuracy:  1.0000 | Domain Loss:  2.3163 | Domain Accuracy:  0.0000\n"
     ]
    },
    {
     "name": "stderr",
     "output_type": "stream",
     "text": [
      "100%|██████████| 2/2 [00:03<00:00,  1.66s/it]\n"
     ]
    },
    {
     "name": "stdout",
     "output_type": "stream",
     "text": [
      "Epoch 27 Train | Classification Loss:  0.3475 | Accuracy:  0.5350| F1:  0.6804 | Balanced Accuracy:  0.5095 | Domain Loss:  1.1153 | Domain Accuracy:  0.5350\n"
     ]
    },
    {
     "name": "stderr",
     "output_type": "stream",
     "text": [
      "/Applications/anaconda3/envs/COMP90051/lib/python3.9/site-packages/sklearn/metrics/_classification.py:386: UserWarning: A single label was found in 'y_true' and 'y_pred'. For the confusion matrix to have the correct shape, use the 'labels' parameter to pass all known labels.\n",
      "  warnings.warn(\n"
     ]
    },
    {
     "name": "stdout",
     "output_type": "stream",
     "text": [
      "Epoch 27 Val   | Classification Loss:  0.2599 | Accuracy:  1.0000| F1:  1.0000 | Balanced Accuracy:  1.0000 | Domain Loss:  2.1031 | Domain Accuracy:  0.0000\n"
     ]
    },
    {
     "name": "stderr",
     "output_type": "stream",
     "text": [
      "100%|██████████| 2/2 [00:02<00:00,  1.45s/it]\n"
     ]
    },
    {
     "name": "stdout",
     "output_type": "stream",
     "text": [
      "Epoch 28 Train | Classification Loss:  0.3470 | Accuracy:  0.5300| F1:  0.6908 | Balanced Accuracy:  0.5006 | Domain Loss:  1.0107 | Domain Accuracy:  0.5300\n"
     ]
    },
    {
     "name": "stderr",
     "output_type": "stream",
     "text": [
      "/Applications/anaconda3/envs/COMP90051/lib/python3.9/site-packages/sklearn/metrics/_classification.py:2458: UserWarning: y_pred contains classes not in y_true\n",
      "  warnings.warn(\"y_pred contains classes not in y_true\")\n"
     ]
    },
    {
     "name": "stdout",
     "output_type": "stream",
     "text": [
      "Epoch 28 Val   | Classification Loss:  0.2883 | Accuracy:  0.9900| F1:  0.9950 | Balanced Accuracy:  0.9900 | Domain Loss:  1.8965 | Domain Accuracy:  0.0000\n"
     ]
    },
    {
     "name": "stderr",
     "output_type": "stream",
     "text": [
      "100%|██████████| 2/2 [00:02<00:00,  1.47s/it]\n"
     ]
    },
    {
     "name": "stdout",
     "output_type": "stream",
     "text": [
      "Epoch 29 Train | Classification Loss:  0.3447 | Accuracy:  0.5400| F1:  0.6541 | Balanced Accuracy:  0.5221 | Domain Loss:  0.9097 | Domain Accuracy:  0.5400\n"
     ]
    },
    {
     "name": "stderr",
     "output_type": "stream",
     "text": [
      "/Applications/anaconda3/envs/COMP90051/lib/python3.9/site-packages/sklearn/metrics/_classification.py:2458: UserWarning: y_pred contains classes not in y_true\n",
      "  warnings.warn(\"y_pred contains classes not in y_true\")\n"
     ]
    },
    {
     "name": "stdout",
     "output_type": "stream",
     "text": [
      "Epoch 29 Val   | Classification Loss:  0.3228 | Accuracy:  0.7050| F1:  0.8270 | Balanced Accuracy:  0.7050 | Domain Loss:  1.7033 | Domain Accuracy:  0.0000\n"
     ]
    },
    {
     "name": "stderr",
     "output_type": "stream",
     "text": [
      "100%|██████████| 2/2 [00:02<00:00,  1.47s/it]\n"
     ]
    },
    {
     "name": "stdout",
     "output_type": "stream",
     "text": [
      "Epoch 30 Train | Classification Loss:  0.3415 | Accuracy:  0.5650| F1:  0.6449 | Balanced Accuracy:  0.5535 | Domain Loss:  0.8181 | Domain Accuracy:  0.5650\n"
     ]
    },
    {
     "name": "stderr",
     "output_type": "stream",
     "text": [
      "/Applications/anaconda3/envs/COMP90051/lib/python3.9/site-packages/sklearn/metrics/_classification.py:2458: UserWarning: y_pred contains classes not in y_true\n",
      "  warnings.warn(\"y_pred contains classes not in y_true\")\n"
     ]
    },
    {
     "name": "stdout",
     "output_type": "stream",
     "text": [
      "Epoch 30 Val   | Classification Loss:  0.3137 | Accuracy:  0.7650| F1:  0.8669 | Balanced Accuracy:  0.7650 | Domain Loss:  1.5296 | Domain Accuracy:  0.0000\n"
     ]
    },
    {
     "name": "stderr",
     "output_type": "stream",
     "text": [
      "100%|██████████| 2/2 [00:02<00:00,  1.50s/it]\n"
     ]
    },
    {
     "name": "stdout",
     "output_type": "stream",
     "text": [
      "Epoch 31 Train | Classification Loss:  0.3475 | Accuracy:  0.5850| F1:  0.6795 | Balanced Accuracy:  0.5693 | Domain Loss:  0.7343 | Domain Accuracy:  0.5850\n"
     ]
    },
    {
     "name": "stderr",
     "output_type": "stream",
     "text": [
      "/Applications/anaconda3/envs/COMP90051/lib/python3.9/site-packages/sklearn/metrics/_classification.py:2458: UserWarning: y_pred contains classes not in y_true\n",
      "  warnings.warn(\"y_pred contains classes not in y_true\")\n"
     ]
    },
    {
     "name": "stdout",
     "output_type": "stream",
     "text": [
      "Epoch 31 Val   | Classification Loss:  0.3034 | Accuracy:  0.8700| F1:  0.9305 | Balanced Accuracy:  0.8700 | Domain Loss:  1.3714 | Domain Accuracy:  0.0000\n"
     ]
    },
    {
     "name": "stderr",
     "output_type": "stream",
     "text": [
      "100%|██████████| 2/2 [00:02<00:00,  1.48s/it]\n"
     ]
    },
    {
     "name": "stdout",
     "output_type": "stream",
     "text": [
      "Epoch 32 Train | Classification Loss:  0.3482 | Accuracy:  0.5500| F1:  0.6691 | Balanced Accuracy:  0.5303 | Domain Loss:  0.6592 | Domain Accuracy:  0.5500\n"
     ]
    },
    {
     "name": "stderr",
     "output_type": "stream",
     "text": [
      "/Applications/anaconda3/envs/COMP90051/lib/python3.9/site-packages/sklearn/metrics/_classification.py:2458: UserWarning: y_pred contains classes not in y_true\n",
      "  warnings.warn(\"y_pred contains classes not in y_true\")\n"
     ]
    },
    {
     "name": "stdout",
     "output_type": "stream",
     "text": [
      "Epoch 32 Val   | Classification Loss:  0.3042 | Accuracy:  0.8450| F1:  0.9160 | Balanced Accuracy:  0.8450 | Domain Loss:  1.2318 | Domain Accuracy:  0.0000\n",
      "\n",
      "Epoch 1 Val   | Classification Loss:  0.1735 | Accuracy:  1.0000| F1:  1.0000 | Balanced Accuracy:  1.0000 | Domain Loss:  6.3180 | Domain Accuracy:  0.0000\n"
     ]
    },
    {
     "name": "stderr",
     "output_type": "stream",
     "text": [
      "/Applications/anaconda3/envs/COMP90051/lib/python3.9/site-packages/sklearn/metrics/_classification.py:386: UserWarning: A single label was found in 'y_true' and 'y_pred'. For the confusion matrix to have the correct shape, use the 'labels' parameter to pass all known labels.\n",
      "  warnings.warn(\n"
     ]
    }
   ],
   "source": [
    "# BERT\n",
    "\n",
    "class BERT_DANN_config:\n",
    "    # ----------------- architectual hyperparameters ----------------- #\n",
    "    d_model = 128\n",
    "    d_ff = 512 # = 4* d_model\n",
    "    n_heads = 8\n",
    "    dropout = 0.1\n",
    "    e_layers = 3 \n",
    "    embedding_aggregation = 'cls' # TODO\n",
    "    n_mlp_clf_layers = 0\n",
    "    n_mlp_dom_layers = 0\n",
    "    res_learning = False\n",
    "    activation = nn.ReLU()\n",
    "    mask_flag = False # causal mask\n",
    "    train_embedding = False\n",
    "    # ----------------- optimisation hyperparameters ----------------- #\n",
    "    random_state = SEED\n",
    "    batch_size = 128\n",
    "    epochs = 32\n",
    "    lr = 1e-3\n",
    "    patience = 32\n",
    "    # loss = nn.BCELoss()\n",
    "    loss = nn.BCELoss(weight=torch.FloatTensor([pos_prior, neg_prior]))\n",
    "    # validation_loss = nn.BCELoss()\n",
    "    validation_loss = nn.BCELoss(weight=torch.FloatTensor([pos_prior, neg_prior]))\n",
    "    domain_loss = nn.BCELoss()\n",
    "    alpha = 0.5\n",
    "    regularisation_loss = None\n",
    "    scheduler = False\n",
    "    grad_clip = False\n",
    "    # ----------------- operation hyperparameters ----------------- #\n",
    "    d_output = 2\n",
    "    seq_len = MAX_SENTENCE_LENGTH\n",
    "    n_unique_tokens = len(raw_token_pytorch_map)\n",
    "    # ----------------- saving hyperparameters ----------------- #\n",
    "    rootpath = home_directory + './'\n",
    "    saving_address = home_directory + f'./results/'\n",
    "    name = f'BERT_Classifier'\n",
    "    \n",
    "\n",
    "\n",
    "model = BERT_DANN(BERT_DANN_config) # initialise the model\n",
    "\n",
    "# train the model (all cells except this one will print training log and evaluation at each batch)\n",
    "best_epoch = model.fit(train_x, train_y, train_dom, val_x, val_y, val_dom)\n",
    "print()\n",
    "\n",
    "# as model automatically saves best epoch, will now load the best epoch and evaluate on test set\n",
    "model.load()\n",
    "model.eval(val_x, val_y, val_dom, best_epoch, evaluation_mode = True)"
   ]
  },
  {
   "cell_type": "markdown",
   "metadata": {},
   "source": []
  }
 ],
 "metadata": {
  "kernelspec": {
   "display_name": "COMP90051",
   "language": "python",
   "name": "python3"
  },
  "language_info": {
   "codemirror_mode": {
    "name": "ipython",
    "version": 3
   },
   "file_extension": ".py",
   "mimetype": "text/x-python",
   "name": "python",
   "nbconvert_exporter": "python",
   "pygments_lexer": "ipython3",
   "version": "3.9.18"
  }
 },
 "nbformat": 4,
 "nbformat_minor": 2
}
