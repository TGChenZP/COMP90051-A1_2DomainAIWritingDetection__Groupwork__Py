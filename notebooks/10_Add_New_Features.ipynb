{
 "cells": [
  {
   "cell_type": "code",
   "execution_count": 1,
   "metadata": {},
   "outputs": [],
   "source": [
    "import json\n",
    "from sklearn.feature_extraction.text import TfidfVectorizer, CountVectorizer\n",
    "from sklearn.model_selection import train_test_split\n",
    "from xgboost import XGBClassifier\n",
    "from collections import defaultdict as dd\n",
    "from tqdm import tqdm\n",
    "from sklearn.metrics import accuracy_score, f1_score, balanced_accuracy_score\n",
    "import pandas as pd\n",
    "import numpy as np\n",
    "\n",
    "import pickle\n",
    "import scipy\n",
    "\n",
    "from scipy.sparse import save_npz, load_npz"
   ]
  },
  {
   "cell_type": "code",
   "execution_count": 2,
   "metadata": {},
   "outputs": [],
   "source": [
    "data1 = []\n",
    "with open('../data/raw/comp90051-2024s1-project-1/domain1_train_data.json', 'r') as f:\n",
    "    for line in f:\n",
    "        data1.append(json.loads(line))\n",
    "\n",
    "data2 = []\n",
    "with open('../data/raw/comp90051-2024s1-project-1/domain2_train_data.json', 'r') as f:\n",
    "    for line in f:\n",
    "        data2.append(json.loads(line))\n",
    "\n",
    "data_test = []\n",
    "with open('../data/raw/comp90051-2024s1-project-1/test_data.json', 'r') as f:\n",
    "    for line in f:\n",
    "        data_test.append(json.loads(line))"
   ]
  },
  {
   "cell_type": "code",
   "execution_count": 4,
   "metadata": {},
   "outputs": [],
   "source": [
    "data_1_additional = pd.read_csv('../data/curated/new_features/text_features/data1_additional.csv')\n",
    "data_2_additional = pd.read_csv('../data/curated/new_features/text_features/data2_additional.csv')\n",
    "data_test_additional = pd.read_csv('../data/curated/new_features/text_features/data_test_additional.csv')\n",
    "\n",
    "domain_clf_future = pd.read_csv('../data/curated/new_features/domain_clf_future.csv')\n",
    "domain_clf_future['pred_domain'] -= 1"
   ]
  },
  {
   "cell_type": "code",
   "execution_count": 6,
   "metadata": {},
   "outputs": [],
   "source": [
    "data_1_additional['unique_words'] = data_1_additional['text'].apply(lambda x: len(set(x.strip('[]').split(','))))\n",
    "data_2_additional['unique_words'] = data_2_additional['text'].apply(lambda x: len(set(x.strip('[]').split(','))))\n",
    "data_test_additional['unique_words'] = data_test_additional['text'].apply(lambda x: len(set(x.strip('[]').split(','))))"
   ]
  },
  {
   "cell_type": "code",
   "execution_count": 7,
   "metadata": {},
   "outputs": [],
   "source": [
    "data_1_additional['unique_word_ratio'] = data_1_additional['unique_words'] / data_1_additional['length']\n",
    "data_2_additional['unique_word_ratio'] = data_2_additional['unique_words'] / data_2_additional['length']\n",
    "data_test_additional['unique_word_ratio'] = data_test_additional['unique_words'] / data_test_additional['length']"
   ]
  },
  {
   "cell_type": "code",
   "execution_count": 8,
   "metadata": {},
   "outputs": [],
   "source": [
    "for x in data1:\n",
    "    x['perplexity'] = float(data_1_additional.loc[data_1_additional['id'] == x['id'], 'perplexity'].values[0])\n",
    "    x['burstiness'] = float(data_1_additional.loc[data_1_additional['id'] == x['id'], 'burstiness'].values[0])\n",
    "    x['length'] = float(data_1_additional.loc[data_1_additional['id'] == x['id'], 'length'].values[0])\n",
    "    x['unique_word_ratio'] = float(data_1_additional.loc[data_1_additional['id'] == x['id'], 'unique_word_ratio'].values[0])\n",
    "\n",
    "for x in data2:\n",
    "    x['perplexity'] = float(data_2_additional.loc[data_2_additional['id'] == x['id'], 'perplexity'].values[0])\n",
    "    x['burstiness'] = float(data_2_additional.loc[data_2_additional['id'] == x['id'], 'burstiness'].values[0])\n",
    "    x['length'] = float(data_2_additional.loc[data_2_additional['id'] == x['id'], 'length'].values[0])\n",
    "    x['unique_word_ratio'] = float(data_2_additional.loc[data_2_additional['id'] == x['id'], 'unique_word_ratio'].values[0])\n",
    "\n",
    "for x in data_test:\n",
    "    x['perplexity'] = float(data_test_additional.loc[data_test_additional['id'] == x['id'], 'perplexity'].values[0])\n",
    "    x['burstiness'] = float(data_test_additional.loc[data_test_additional['id'] == x['id'], 'burstiness'].values[0])\n",
    "    x['length'] = float(data_test_additional.loc[data_test_additional['id'] == x['id'], 'length'].values[0])\n",
    "    x['unique_word_ratio'] = float(data_test_additional.loc[data_test_additional['id'] == x['id'], 'unique_word_ratio'].values[0])\n",
    "    x['domain'] = int(domain_clf_future.loc[domain_clf_future['id'] == x['id'], 'pred_domain'].values[0])"
   ]
  },
  {
   "cell_type": "code",
   "execution_count": 9,
   "metadata": {},
   "outputs": [],
   "source": [
    "# Save data from data1 to JSON file\n",
    "with open('../data/curated/comp90051-2024s1-project-1/domain1_train_data.json', 'w') as f:\n",
    "    for item in data1:\n",
    "        json.dump(item, f)\n",
    "        f.write('\\n')\n",
    "\n",
    "# Save data from data2 to JSON file\n",
    "with open('../data/curated/comp90051-2024s1-project-1/domain2_train_data.json', 'w') as f:\n",
    "    for item in data2:\n",
    "        json.dump(item, f)\n",
    "        f.write('\\n')\n",
    "\n",
    "# Save data from data_test to JSON file\n",
    "with open('../data/curated/comp90051-2024s1-project-1/test_data.json', 'w') as f:\n",
    "    for item in data_test:\n",
    "        json.dump(item, f)\n",
    "        f.write('\\n')\n"
   ]
  },
  {
   "cell_type": "code",
   "execution_count": 10,
   "metadata": {},
   "outputs": [],
   "source": [
    "data_1_additional.to_csv('../data/curated/comp90051-2024s1-project-1/data1_additional.csv', index=False)\n",
    "data_2_additional.to_csv('../data/curated/comp90051-2024s1-project-1/data2_additional.csv', index=False)\n",
    "data_test_additional.to_csv('../data/curated/comp90051-2024s1-project-1/data_test_additional.csv', index=False)"
   ]
  },
  {
   "cell_type": "code",
   "execution_count": 11,
   "metadata": {},
   "outputs": [],
   "source": [
    "data1 = []\n",
    "with open('../data/curated/comp90051-2024s1-project-1/domain1_train_data.json', 'r') as f:\n",
    "    for line in f:\n",
    "        data1.append(json.loads(line))\n",
    "\n",
    "data2 = []\n",
    "with open('../data/curated/comp90051-2024s1-project-1/domain2_train_data.json', 'r') as f:\n",
    "    for line in f:\n",
    "        data2.append(json.loads(line))\n",
    "\n",
    "data_test = []\n",
    "with open('../data/curated/comp90051-2024s1-project-1/test_data.json', 'r') as f:\n",
    "    for line in f:\n",
    "        data_test.append(json.loads(line))"
   ]
  }
 ],
 "metadata": {
  "kernelspec": {
   "display_name": "COMP90051",
   "language": "python",
   "name": "python3"
  },
  "language_info": {
   "codemirror_mode": {
    "name": "ipython",
    "version": 3
   },
   "file_extension": ".py",
   "mimetype": "text/x-python",
   "name": "python",
   "nbconvert_exporter": "python",
   "pygments_lexer": "ipython3",
   "version": "3.9.18"
  }
 },
 "nbformat": 4,
 "nbformat_minor": 2
}
